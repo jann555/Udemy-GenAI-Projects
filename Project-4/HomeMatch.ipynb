{
 "cells": [
  {
   "cell_type": "markdown",
   "id": "a108af04",
   "metadata": {},
   "source": [
    "This is a starter notebook for the project, you'll have to import the libraries you'll need, you can find a list of the ones available in this workspace in the requirements.txt file in this workspace. "
   ]
  },
  {
   "cell_type": "code",
   "execution_count": 9,
   "id": "6554fd4c",
   "metadata": {},
   "outputs": [
    {
     "ename": "ModuleNotFoundError",
     "evalue": "No module named 'decouple'",
     "output_type": "error",
     "traceback": [
      "\u001b[1;31m---------------------------------------------------------------------------\u001b[0m",
      "\u001b[1;31mModuleNotFoundError\u001b[0m                       Traceback (most recent call last)",
      "Cell \u001b[1;32mIn[9], line 3\u001b[0m\n\u001b[0;32m      1\u001b[0m \u001b[38;5;28;01mimport\u001b[39;00m \u001b[38;5;21;01mos\u001b[39;00m\n\u001b[1;32m----> 3\u001b[0m \u001b[38;5;28;01mfrom\u001b[39;00m \u001b[38;5;21;01mlistings_generator\u001b[39;00m \u001b[38;5;28;01mimport\u001b[39;00m generate_real_estate_listings \u001b[38;5;28;01mas\u001b[39;00m listing_gen\n",
      "File \u001b[1;32mc:\\Users\\freda\\Documents\\Github\\Udemy-GenAI\\Project - 4\\listings_generator.py:2\u001b[0m\n\u001b[0;32m      1\u001b[0m \u001b[38;5;28;01mimport\u001b[39;00m \u001b[38;5;21;01mopenai\u001b[39;00m\n\u001b[1;32m----> 2\u001b[0m \u001b[38;5;28;01mfrom\u001b[39;00m \u001b[38;5;21;01mdecouple\u001b[39;00m \u001b[38;5;28;01mimport\u001b[39;00m config\n\u001b[0;32m      4\u001b[0m \u001b[38;5;66;03m# Set up the OpenAI API key\u001b[39;00m\n\u001b[0;32m      5\u001b[0m openai\u001b[38;5;241m.\u001b[39mapi_base \u001b[38;5;241m=\u001b[39m \u001b[38;5;124m\"\u001b[39m\u001b[38;5;124mhttps://openai.vocareum.com/v1\u001b[39m\u001b[38;5;124m\"\u001b[39m\n",
      "\u001b[1;31mModuleNotFoundError\u001b[0m: No module named 'decouple'"
     ]
    }
   ],
   "source": [
    "import os\n",
    "\n",
    "from listings_generator import generate_real_estate_listings as listing_gen\n"
   ]
  },
  {
   "cell_type": "code",
   "execution_count": null,
   "id": "fec7f5ee",
   "metadata": {},
   "outputs": [],
   "source": [
    "real_state_listings = listing_gen()"
   ]
  },
  {
   "cell_type": "code",
   "execution_count": null,
   "id": "bdff163f",
   "metadata": {},
   "outputs": [],
   "source": [
    "print(real_state_listings[0])"
   ]
  }
 ],
 "metadata": {
  "kernelspec": {
   "display_name": ".venv",
   "language": "python",
   "name": "python3"
  },
  "language_info": {
   "codemirror_mode": {
    "name": "ipython",
    "version": 3
   },
   "file_extension": ".py",
   "mimetype": "text/x-python",
   "name": "python",
   "nbconvert_exporter": "python",
   "pygments_lexer": "ipython3",
   "version": "3.10.11"
  }
 },
 "nbformat": 4,
 "nbformat_minor": 5
}
